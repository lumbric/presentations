{
 "cells": [
  {
   "cell_type": "code",
   "execution_count": null,
   "metadata": {
    "slideshow": {
     "slide_type": "skip"
    }
   },
   "outputs": [],
   "source": []
  },
  {
   "cell_type": "markdown",
   "metadata": {
    "slideshow": {
     "slide_type": "slide"
    }
   },
   "source": [
    "<div style=\"color:#555;float:right;\"><small>lumbric &lt;lumbric@suuf.cc&gt;</small></div>\n",
    "<div style=\"color:#555;\"><small>2019-09-25 - PyUGAT</small></div>\n",
    "\n",
    "<br><br>\n",
    "<h1 style=\"text-align:center\">xarray</h1>\n",
    "<br><br><br><br>\n",
    "\n",
    "<div style=\"float:right\">https://github.com/pydata/xarray</div>\n",
    "https://xarray.pydata.org/"
   ]
  },
  {
   "cell_type": "markdown",
   "metadata": {
    "slideshow": {
     "slide_type": "slide"
    }
   },
   "source": [
    "<div style=\"weight:bolder; font-size:1.2em; width:80%;\"> \n",
    "<pre>\n",
    "    xarray = numpy \n",
    "</pre>\n",
    "</div>"
   ]
  },
  {
   "cell_type": "markdown",
   "metadata": {
    "slideshow": {
     "slide_type": "subslide"
    }
   },
   "source": [
    "\n",
    "<div style=\"weight:bolder; font-size:1.2em; width:80%;\"> \n",
    "<pre>\n",
    "    xarray = numpy \n",
    "             + named axis\n",
    "</pre>\n",
    "</div>"
   ]
  },
  {
   "cell_type": "markdown",
   "metadata": {
    "slideshow": {
     "slide_type": "subslide"
    }
   },
   "source": [
    "\n",
    "<div style=\"weight:bolder; font-size:1.2em; width:80%;\"> \n",
    "<pre>\n",
    "    xarray = numpy \n",
    "             + named axis\n",
    "             + coordinates\n",
    "             \n",
    "</pre>\n",
    "</div>"
   ]
  },
  {
   "cell_type": "markdown",
   "metadata": {
    "slideshow": {
     "slide_type": "subslide"
    }
   },
   "source": [
    "\n",
    "<div style=\"weight:bolder; font-size:1.2em; width:80%;\"> \n",
    "<pre>\n",
    "    xarray = numpy \n",
    "             + named axis\n",
    "             + coordinates\n",
    "             + parallelism\n",
    "\n",
    "</pre>\n",
    "</div>"
   ]
  },
  {
   "cell_type": "markdown",
   "metadata": {
    "slideshow": {
     "slide_type": "subslide"
    }
   },
   "source": [
    "\n",
    "<div style=\"weight:bolder; font-size:1.2em; width:80%;\"> \n",
    "<pre>\n",
    "    xarray = numpy \n",
    "             + named axis\n",
    "             + coordinates\n",
    "             + parallelism\n",
    "\n",
    "            = pandas \n",
    "             + netcdf \n",
    "             + more dimensions\n",
    "</pre>\n",
    "</div>"
   ]
  },
  {
   "cell_type": "markdown",
   "metadata": {
    "slideshow": {
     "slide_type": "slide"
    }
   },
   "source": [
    "# Numpy broadcasting"
   ]
  },
  {
   "cell_type": "code",
   "execution_count": 1,
   "metadata": {
    "slideshow": {
     "slide_type": "-"
    }
   },
   "outputs": [],
   "source": [
    "import numpy as np"
   ]
  },
  {
   "cell_type": "code",
   "execution_count": 2,
   "metadata": {
    "slideshow": {
     "slide_type": "-"
    }
   },
   "outputs": [],
   "source": [
    "m = np.arange(12).reshape((3, 4))"
   ]
  },
  {
   "cell_type": "code",
   "execution_count": 3,
   "metadata": {},
   "outputs": [
    {
     "data": {
      "text/plain": [
       "array([[ 0,  1,  2,  3],\n",
       "       [ 4,  5,  6,  7],\n",
       "       [ 8,  9, 10, 11]])"
      ]
     },
     "execution_count": 3,
     "metadata": {},
     "output_type": "execute_result"
    }
   ],
   "source": [
    "m"
   ]
  },
  {
   "cell_type": "code",
   "execution_count": 4,
   "metadata": {
    "slideshow": {
     "slide_type": "fragment"
    }
   },
   "outputs": [
    {
     "data": {
      "text/plain": [
       "array([[100, 101, 102, 103],\n",
       "       [104, 105, 106, 107],\n",
       "       [108, 109, 110, 111]])"
      ]
     },
     "execution_count": 4,
     "metadata": {},
     "output_type": "execute_result"
    }
   ],
   "source": [
    "m + 100"
   ]
  },
  {
   "cell_type": "code",
   "execution_count": 5,
   "metadata": {
    "slideshow": {
     "slide_type": "subslide"
    }
   },
   "outputs": [],
   "source": [
    "v = np.array([1, 2, 3, 4])"
   ]
  },
  {
   "cell_type": "code",
   "execution_count": 6,
   "metadata": {
    "slideshow": {
     "slide_type": "fragment"
    }
   },
   "outputs": [
    {
     "data": {
      "text/plain": [
       "array([[ 1,  3,  5,  7],\n",
       "       [ 5,  7,  9, 11],\n",
       "       [ 9, 11, 13, 15]])"
      ]
     },
     "execution_count": 6,
     "metadata": {},
     "output_type": "execute_result"
    }
   ],
   "source": [
    "m + v"
   ]
  },
  {
   "cell_type": "code",
   "execution_count": 7,
   "metadata": {
    "slideshow": {
     "slide_type": "fragment"
    }
   },
   "outputs": [
    {
     "data": {
      "text/plain": [
       "(3, 4)"
      ]
     },
     "execution_count": 7,
     "metadata": {},
     "output_type": "execute_result"
    }
   ],
   "source": [
    "m.shape"
   ]
  },
  {
   "cell_type": "code",
   "execution_count": 8,
   "metadata": {
    "slideshow": {
     "slide_type": "fragment"
    }
   },
   "outputs": [
    {
     "data": {
      "text/plain": [
       "(4,)"
      ]
     },
     "execution_count": 8,
     "metadata": {},
     "output_type": "execute_result"
    }
   ],
   "source": [
    "v.shape"
   ]
  },
  {
   "cell_type": "markdown",
   "metadata": {
    "slideshow": {
     "slide_type": "subslide"
    }
   },
   "source": [
    "# Broadcasting rules\n",
    "\n",
    "\n",
    "\n",
    "    A      (2d array):  5 x 4\n",
    "    B      (1d array):      1\n",
    "    Result (2d array):  5 x 4\n",
    "\n",
    "    A      (2d array):  5 x 4\n",
    "    B      (1d array):      4\n",
    "    Result (2d array):  5 x 4\n",
    "\n",
    "    A      (3d array):  15 x 3 x 5\n",
    "    B      (3d array):  15 x 1 x 5\n",
    "    Result (3d array):  15 x 3 x 5\n",
    "\n",
    "    A      (3d array):  15 x 3 x 5\n",
    "    B      (2d array):       3 x 5\n",
    "    Result (3d array):  15 x 3 x 5\n",
    "\n",
    "    A      (3d array):  15 x 3 x 5\n",
    "    B      (2d array):       3 x 1\n",
    "    Result (3d array):  15 x 3 x 5\n",
    "    \n",
    "<small>Source: https://docs.scipy.org/doc/numpy/user/basics.broadcasting.html</small>"
   ]
  },
  {
   "cell_type": "markdown",
   "metadata": {
    "slideshow": {
     "slide_type": "subslide"
    }
   },
   "source": [
    "Here are examples of shapes that do not broadcast:\n",
    "\n",
    "    A      (1d array):  3\n",
    "    B      (1d array):  4 # trailing dimensions do not match\n",
    "\n",
    "    A      (2d array):      2 x 1\n",
    "    B      (3d array):  8 x 4 x 3 # second from last dimensions mismatched\n",
    "\n",
    "<small>Source: https://docs.scipy.org/doc/numpy/user/basics.broadcasting.html</small>"
   ]
  },
  {
   "cell_type": "code",
   "execution_count": 9,
   "metadata": {
    "slideshow": {
     "slide_type": "slide"
    }
   },
   "outputs": [
    {
     "data": {
      "text/plain": [
       "array([0, 1, 2, 3, 4])"
      ]
     },
     "execution_count": 9,
     "metadata": {},
     "output_type": "execute_result"
    }
   ],
   "source": [
    "a = np.arange(5)\n",
    "a"
   ]
  },
  {
   "cell_type": "code",
   "execution_count": 10,
   "metadata": {
    "slideshow": {
     "slide_type": "fragment"
    }
   },
   "outputs": [
    {
     "data": {
      "text/plain": [
       "array([1., 1., 1., 1., 1.])"
      ]
     },
     "execution_count": 10,
     "metadata": {},
     "output_type": "execute_result"
    }
   ],
   "source": [
    "b = np.ones(5)\n",
    "b"
   ]
  },
  {
   "cell_type": "code",
   "execution_count": 11,
   "metadata": {
    "slideshow": {
     "slide_type": "fragment"
    }
   },
   "outputs": [
    {
     "data": {
      "text/plain": [
       "array([1., 1., 1., 1., 1.])"
      ]
     },
     "execution_count": 11,
     "metadata": {},
     "output_type": "execute_result"
    }
   ],
   "source": [
    "b"
   ]
  },
  {
   "cell_type": "code",
   "execution_count": 12,
   "metadata": {
    "slideshow": {
     "slide_type": "fragment"
    }
   },
   "outputs": [
    {
     "data": {
      "text/plain": [
       "(1, 5)"
      ]
     },
     "execution_count": 12,
     "metadata": {},
     "output_type": "execute_result"
    }
   ],
   "source": [
    "b[np.newaxis, :].shape"
   ]
  },
  {
   "cell_type": "code",
   "execution_count": 13,
   "metadata": {
    "slideshow": {
     "slide_type": "fragment"
    }
   },
   "outputs": [
    {
     "data": {
      "text/plain": [
       "array([[0., 0., 0., 0., 0.],\n",
       "       [1., 1., 1., 1., 1.],\n",
       "       [2., 2., 2., 2., 2.],\n",
       "       [3., 3., 3., 3., 3.],\n",
       "       [4., 4., 4., 4., 4.]])"
      ]
     },
     "execution_count": 13,
     "metadata": {},
     "output_type": "execute_result"
    }
   ],
   "source": [
    "a[:, np.newaxis] * b[np.newaxis, :]"
   ]
  },
  {
   "cell_type": "markdown",
   "metadata": {
    "slideshow": {
     "slide_type": "slide"
    }
   },
   "source": [
    "# xarray?"
   ]
  },
  {
   "cell_type": "code",
   "execution_count": 14,
   "metadata": {},
   "outputs": [],
   "source": [
    "import xarray as xr"
   ]
  },
  {
   "cell_type": "code",
   "execution_count": 15,
   "metadata": {
    "slideshow": {
     "slide_type": "fragment"
    }
   },
   "outputs": [],
   "source": [
    "a_xr = xr.DataArray(a, dims='a_dim')\n",
    "b_xr = xr.DataArray(b, dims='b_dim')"
   ]
  },
  {
   "cell_type": "code",
   "execution_count": 16,
   "metadata": {
    "slideshow": {
     "slide_type": "fragment"
    }
   },
   "outputs": [
    {
     "data": {
      "text/plain": [
       "<xarray.DataArray (a_dim: 5)>\n",
       "array([0, 1, 2, 3, 4])\n",
       "Dimensions without coordinates: a_dim"
      ]
     },
     "execution_count": 16,
     "metadata": {},
     "output_type": "execute_result"
    }
   ],
   "source": [
    "a_xr"
   ]
  },
  {
   "cell_type": "code",
   "execution_count": 17,
   "metadata": {
    "slideshow": {
     "slide_type": "fragment"
    }
   },
   "outputs": [
    {
     "data": {
      "text/plain": [
       "<xarray.DataArray (b_dim: 5)>\n",
       "array([1., 1., 1., 1., 1.])\n",
       "Dimensions without coordinates: b_dim"
      ]
     },
     "execution_count": 17,
     "metadata": {},
     "output_type": "execute_result"
    }
   ],
   "source": [
    "b_xr"
   ]
  },
  {
   "cell_type": "code",
   "execution_count": 18,
   "metadata": {
    "slideshow": {
     "slide_type": "subslide"
    }
   },
   "outputs": [
    {
     "data": {
      "text/plain": [
       "<xarray.DataArray (a_dim: 5, b_dim: 5)>\n",
       "array([[0., 0., 0., 0., 0.],\n",
       "       [1., 1., 1., 1., 1.],\n",
       "       [2., 2., 2., 2., 2.],\n",
       "       [3., 3., 3., 3., 3.],\n",
       "       [4., 4., 4., 4., 4.]])\n",
       "Dimensions without coordinates: a_dim, b_dim"
      ]
     },
     "execution_count": 18,
     "metadata": {},
     "output_type": "execute_result"
    }
   ],
   "source": [
    "a_xr * b_xr"
   ]
  },
  {
   "cell_type": "markdown",
   "metadata": {
    "slideshow": {
     "slide_type": "slide"
    }
   },
   "source": [
    "# Example: wind speed time series\n",
    "\n",
    "<small>See also: https://github.com/lumbric/python_git_programming_course</small>"
   ]
  },
  {
   "cell_type": "code",
   "execution_count": 19,
   "metadata": {},
   "outputs": [],
   "source": [
    "%matplotlib inline\n",
    "import matplotlib\n",
    "import matplotlib.pyplot as plt\n",
    "\n",
    "fname = '<snip>'"
   ]
  },
  {
   "cell_type": "code",
   "execution_count": 20,
   "metadata": {},
   "outputs": [],
   "source": [
    "# matplotlib.rc('figure', figsize=(15, 10))"
   ]
  },
  {
   "cell_type": "code",
   "execution_count": 21,
   "metadata": {
    "slideshow": {
     "slide_type": "slide"
    }
   },
   "outputs": [],
   "source": [
    "latitude_resolution = 100\n",
    "longitude_resolution = 110\n",
    "time_resolution = 365\n",
    "\n",
    "# in m/s, postfixing with _ms does not work well, because ms is miliseconds... :-/\n",
    "wind_speeds = np.random.weibull(10, size=(latitude_resolution, longitude_resolution, time_resolution))"
   ]
  },
  {
   "cell_type": "code",
   "execution_count": 22,
   "metadata": {
    "slideshow": {
     "slide_type": "fragment"
    }
   },
   "outputs": [
    {
     "data": {
      "text/plain": [
       "(100, 110, 365)"
      ]
     },
     "execution_count": 22,
     "metadata": {},
     "output_type": "execute_result"
    }
   ],
   "source": [
    "wind_speeds.shape"
   ]
  },
  {
   "cell_type": "code",
   "execution_count": 23,
   "metadata": {
    "slideshow": {
     "slide_type": "fragment"
    }
   },
   "outputs": [
    {
     "data": {
      "image/png": "[encoded data removed]",
      "text/plain": [
       "<Figure size 432x288 with 1 Axes>"
      ]
     },
     "metadata": {
      "needs_background": "light"
     },
     "output_type": "display_data"
    }
   ],
   "source": [
    "_ = plt.hist(wind_speeds.flatten(), density=True, bins=50)"
   ]
  },
  {
   "cell_type": "code",
   "execution_count": 24,
   "metadata": {
    "slideshow": {
     "slide_type": "subslide"
    }
   },
   "outputs": [
    {
     "data": {
      "text/plain": [
       "<matplotlib.image.AxesImage at 0x7f9cf6eef940>"
      ]
     },
     "execution_count": 24,
     "metadata": {},
     "output_type": "execute_result"
    },
    {
     "data": {
      "image/png": "[encoded data removed]",
      "text/plain": [
       "<Figure size 432x288 with 1 Axes>"
      ]
     },
     "metadata": {
      "needs_background": "light"
     },
     "output_type": "display_data"
    }
   ],
   "source": [
    "# m/s --> kW\n",
    "wind_to_power = np.random.normal(300, scale=20, size=(latitude_resolution, longitude_resolution))\n",
    "plt.imshow(wind_to_power)"
   ]
  },
  {
   "cell_type": "code",
   "execution_count": 25,
   "metadata": {
    "slideshow": {
     "slide_type": "subslide"
    }
   },
   "outputs": [
    {
     "ename": "ValueError",
     "evalue": "operands could not be broadcast together with shapes (100,110) (100,110,365) ",
     "output_type": "error",
     "traceback": [
      "\u001b[0;31m---------------------------------------------------------------------------\u001b[0m",
      "\u001b[0;31mValueError\u001b[0m                                Traceback (most recent call last)",
      "\u001b[0;32m<ipython-input-25-caa40600a1f1>\u001b[0m in \u001b[0;36m<module>\u001b[0;34m\u001b[0m\n\u001b[0;32m----> 1\u001b[0;31m \u001b[0mwind_to_power\u001b[0m \u001b[0;34m*\u001b[0m \u001b[0mwind_speeds\u001b[0m\u001b[0;34m\u001b[0m\u001b[0;34m\u001b[0m\u001b[0m\n\u001b[0m",
      "\u001b[0;31mValueError\u001b[0m: operands could not be broadcast together with shapes (100,110) (100,110,365) "
     ]
    }
   ],
   "source": [
    "wind_to_power * wind_speeds"
   ]
  },
  {
   "cell_type": "code",
   "execution_count": 26,
   "metadata": {
    "slideshow": {
     "slide_type": "fragment"
    }
   },
   "outputs": [
    {
     "data": {
      "text/plain": [
       "(100, 110, 365)"
      ]
     },
     "execution_count": 26,
     "metadata": {},
     "output_type": "execute_result"
    }
   ],
   "source": [
    "wind_speeds.shape"
   ]
  },
  {
   "cell_type": "code",
   "execution_count": 27,
   "metadata": {
    "slideshow": {
     "slide_type": "fragment"
    }
   },
   "outputs": [
    {
     "data": {
      "text/plain": [
       "(100, 110)"
      ]
     },
     "execution_count": 27,
     "metadata": {},
     "output_type": "execute_result"
    }
   ],
   "source": [
    "wind_to_power.shape"
   ]
  },
  {
   "cell_type": "code",
   "execution_count": 28,
   "metadata": {
    "slideshow": {
     "slide_type": "subslide"
    }
   },
   "outputs": [],
   "source": [
    "wind_speeds = np.rollaxis(wind_speeds, 2)"
   ]
  },
  {
   "cell_type": "code",
   "execution_count": 29,
   "metadata": {
    "slideshow": {
     "slide_type": "fragment"
    }
   },
   "outputs": [
    {
     "data": {
      "text/plain": [
       "(365, 100, 110)"
      ]
     },
     "execution_count": 29,
     "metadata": {},
     "output_type": "execute_result"
    }
   ],
   "source": [
    "wind_speeds.shape"
   ]
  },
  {
   "cell_type": "code",
   "execution_count": 30,
   "metadata": {
    "slideshow": {
     "slide_type": "fragment"
    }
   },
   "outputs": [
    {
     "data": {
      "text/plain": [
       "(100, 110)"
      ]
     },
     "execution_count": 30,
     "metadata": {},
     "output_type": "execute_result"
    }
   ],
   "source": [
    "wind_to_power.shape"
   ]
  },
  {
   "cell_type": "code",
   "execution_count": 31,
   "metadata": {
    "slideshow": {
     "slide_type": "fragment"
    }
   },
   "outputs": [],
   "source": [
    "average_power = (wind_to_power * wind_speeds).mean(axis=0)"
   ]
  },
  {
   "cell_type": "code",
   "execution_count": 32,
   "metadata": {},
   "outputs": [
    {
     "data": {
      "text/plain": [
       "(100, 110)"
      ]
     },
     "execution_count": 32,
     "metadata": {},
     "output_type": "execute_result"
    }
   ],
   "source": [
    "average_power.shape"
   ]
  },
  {
   "cell_type": "markdown",
   "metadata": {
    "slideshow": {
     "slide_type": "subslide"
    }
   },
   "source": [
    "# Example: now with xarray"
   ]
  },
  {
   "cell_type": "code",
   "execution_count": 33,
   "metadata": {},
   "outputs": [],
   "source": [
    "wind_speeds_raw = np.random.weibull(10, size=(latitude_resolution, longitude_resolution, time_resolution))\n",
    "wind_speeds = xr.DataArray(wind_speeds_raw, dims=('latitude', 'longitude', 'time'))"
   ]
  },
  {
   "cell_type": "code",
   "execution_count": 34,
   "metadata": {
    "slideshow": {
     "slide_type": "fragment"
    }
   },
   "outputs": [
    {
     "data": {
      "text/plain": [
       "<xarray.DataArray (latitude: 100, longitude: 110, time: 365)>\n",
       "array([[[1.1963458 , 0.84573038, 1.04503664, ..., 1.02864817,\n",
       "         0.79344293, 0.90900402],\n",
       "        [1.03062163, 1.02242157, 0.99426093, ..., 0.90651421,\n",
       "         0.95611876, 0.94145439],\n",
       "        [0.69456045, 1.031295  , 0.91174468, ..., 0.97036453,\n",
       "         1.06951917, 0.90390805],\n",
       "        ...,\n",
       "        [0.78798659, 0.84765619, 0.94783674, ..., 0.94761757,\n",
       "         1.01758829, 0.81971823],\n",
       "        [0.92826388, 0.86691009, 0.71707721, ..., 1.04452982,\n",
       "         0.95100589, 0.89877159],\n",
       "        [0.73266713, 0.83243729, 0.85766444, ..., 0.92313772,\n",
       "         1.04584761, 0.91687691]],\n",
       "\n",
       "       [[0.82315065, 0.84791923, 0.92739454, ..., 1.16281114,\n",
       "         0.93604562, 0.95488638],\n",
       "        [1.03734605, 1.09979977, 0.9243283 , ..., 0.87989279,\n",
       "         1.09716617, 1.04648863],\n",
       "        [1.0047406 , 0.91883426, 0.86487508, ..., 0.68340837,\n",
       "         0.84151908, 0.98009787],\n",
       "        ...,\n",
       "        [0.84020961, 1.05779473, 1.13771684, ..., 0.98608168,\n",
       "         1.09299089, 0.91026949],\n",
       "        [1.08580923, 0.89761123, 1.04530642, ..., 0.97992246,\n",
       "         1.03257278, 1.03606494],\n",
       "        [0.88656924, 1.09447849, 1.03621163, ..., 1.09573511,\n",
       "         0.91685711, 0.86111095]],\n",
       "\n",
       "       [[1.05202603, 0.79099392, 1.11566615, ..., 1.11647633,\n",
       "         0.97654697, 0.95296131],\n",
       "        [0.79728028, 0.97182737, 0.93504354, ..., 0.95000466,\n",
       "         0.96968388, 1.07176184],\n",
       "        [0.92627799, 0.9411284 , 0.91769983, ..., 1.02247949,\n",
       "         1.00862247, 1.11953937],\n",
       "        ...,\n",
       "        [1.05704968, 0.96510691, 1.11032055, ..., 1.05264643,\n",
       "         0.73362267, 1.10348934],\n",
       "        [0.93722788, 0.9243527 , 1.09350817, ..., 0.92682496,\n",
       "         1.0139099 , 0.99372247],\n",
       "        [1.10864168, 1.05181563, 0.94120851, ..., 1.0127359 ,\n",
       "         0.89989139, 1.00118372]],\n",
       "\n",
       "       ...,\n",
       "\n",
       "       [[0.85663871, 0.96223121, 1.08971274, ..., 1.13252299,\n",
       "         0.91755442, 0.72275474],\n",
       "        [0.87622684, 0.95264309, 0.9615873 , ..., 1.00116765,\n",
       "         0.95715637, 1.02178981],\n",
       "        [1.07034253, 0.80273276, 0.92783155, ..., 0.7738266 ,\n",
       "         0.96030326, 0.94437424],\n",
       "        ...,\n",
       "        [0.78311973, 1.08672363, 0.92507881, ..., 1.05813786,\n",
       "         1.05781281, 0.81193194],\n",
       "        [0.98349618, 0.89289176, 1.12141695, ..., 1.00321333,\n",
       "         0.94315585, 0.91912818],\n",
       "        [0.77465689, 0.84155242, 1.03485858, ..., 1.10171717,\n",
       "         1.09791802, 0.84322726]],\n",
       "\n",
       "       [[0.91276826, 0.9136279 , 0.8074674 , ..., 0.80236261,\n",
       "         0.97160898, 0.56292291],\n",
       "        [1.1416081 , 0.96006818, 0.97115817, ..., 0.82231499,\n",
       "         1.13483121, 0.79206356],\n",
       "        [0.95037892, 1.05279794, 0.72105878, ..., 0.92657899,\n",
       "         1.01630206, 0.90364548],\n",
       "        ...,\n",
       "        [0.99633499, 0.87467255, 1.03545401, ..., 1.03101507,\n",
       "         1.04097122, 1.09066053],\n",
       "        [0.90483937, 0.99660651, 0.68338446, ..., 0.91667636,\n",
       "         0.89289374, 0.99773418],\n",
       "        [1.12909378, 0.97283614, 0.68258944, ..., 1.03674855,\n",
       "         0.67063863, 0.99852021]],\n",
       "\n",
       "       [[0.98355022, 1.11594606, 1.01023963, ..., 0.85354089,\n",
       "         0.85576   , 0.94822447],\n",
       "        [1.05586683, 0.7753376 , 1.08078906, ..., 1.02252299,\n",
       "         0.74180361, 1.1574363 ],\n",
       "        [0.90878006, 0.8796454 , 1.09309198, ..., 0.88541639,\n",
       "         0.86460118, 0.94806604],\n",
       "        ...,\n",
       "        [1.04896684, 0.92855758, 0.83141422, ..., 0.79812023,\n",
       "         0.859656  , 0.90960037],\n",
       "        [1.06933961, 1.02420066, 0.79508963, ..., 0.83619106,\n",
       "         0.99272183, 0.90228401],\n",
       "        [1.04106682, 0.99079124, 0.99442692, ..., 1.0150714 ,\n",
       "         1.04497007, 1.14808406]]])\n",
       "Dimensions without coordinates: latitude, longitude, time"
      ]
     },
     "execution_count": 34,
     "metadata": {},
     "output_type": "execute_result"
    }
   ],
   "source": [
    "wind_speeds"
   ]
  },
  {
   "cell_type": "code",
   "execution_count": 35,
   "metadata": {
    "slideshow": {
     "slide_type": "subslide"
    }
   },
   "outputs": [],
   "source": [
    "wind_to_power_raw = np.random.normal(300, scale=20, size=(latitude_resolution, longitude_resolution))\n",
    "wind_to_power = xr.DataArray(wind_to_power_raw, dims=('latitude', 'longitude'))"
   ]
  },
  {
   "cell_type": "code",
   "execution_count": 36,
   "metadata": {
    "slideshow": {
     "slide_type": "fragment"
    }
   },
   "outputs": [
    {
     "data": {
      "text/plain": [
       "<xarray.DataArray (latitude: 100, longitude: 110)>\n",
       "array([[302.50482982, 316.52621557, 274.165602  , ..., 281.00432226,\n",
       "        272.91929475, 295.41792581],\n",
       "       [300.21830816, 290.68057425, 264.05347227, ..., 275.68164699,\n",
       "        303.80495331, 275.60977009],\n",
       "       [322.49668106, 258.19554615, 307.82754627, ..., 305.67640507,\n",
       "        294.67918512, 316.77537977],\n",
       "       ...,\n",
       "       [297.66676233, 297.26476033, 290.88814879, ..., 269.74651896,\n",
       "        294.59829414, 277.65017317],\n",
       "       [270.23128418, 265.10654239, 275.01575658, ..., 286.3701931 ,\n",
       "        333.85220296, 284.81174692],\n",
       "       [301.89468893, 289.84696609, 282.69823085, ..., 303.34074633,\n",
       "        287.90014977, 311.0024444 ]])\n",
       "Dimensions without coordinates: latitude, longitude"
      ]
     },
     "execution_count": 36,
     "metadata": {},
     "output_type": "execute_result"
    }
   ],
   "source": [
    "(wind_to_power * wind_speeds).mean(dim='time')"
   ]
  },
  {
   "cell_type": "markdown",
   "metadata": {
    "slideshow": {
     "slide_type": "subslide"
    }
   },
   "source": [
    "\n",
    "<div style=\"weight:bolder; font-size:1.2em; width:80%;\"> \n",
    "<pre>\n",
    "    xarray = numpy \n",
    "             + named axis\n",
    "             + coordinates\n",
    "             + parallelism\n",
    "\n",
    "            = pandas \n",
    "             + netcdf \n",
    "             + more dimensions\n",
    "</pre>\n",
    "</div>"
   ]
  },
  {
   "cell_type": "markdown",
   "metadata": {
    "slideshow": {
     "slide_type": "slide"
    }
   },
   "source": [
    "# Coordinates"
   ]
  },
  {
   "cell_type": "code",
   "execution_count": 37,
   "metadata": {},
   "outputs": [],
   "source": [
    "wind_velocity = xr.load_dataset(fname.format(m=4, y=1994))"
   ]
  },
  {
   "cell_type": "code",
   "execution_count": 38,
   "metadata": {},
   "outputs": [
    {
     "data": {
      "text/plain": [
       "<xarray.Dataset>\n",
       "Dimensions:    (latitude: 204, longitude: 432, time: 720)\n",
       "Coordinates:\n",
       "  * longitude  (longitude) float32 -172.5 -172.25 -172.0 ... -65.25 -65.0 -64.75\n",
       "  * latitude   (latitude) float32 67.75 67.5 67.25 67.0 ... 17.5 17.25 17.0\n",
       "  * time       (time) datetime64[ns] 1994-04-01 ... 1994-04-30T23:00:00\n",
       "Data variables:\n",
       "    u100       (time, latitude, longitude) float32 -7.539171 ... -6.906355\n",
       "    v100       (time, latitude, longitude) float32 6.42413 ... 1.7227337\n",
       "    u10        (time, latitude, longitude) float32 -5.4918623 ... -6.1959705\n",
       "    v10        (time, latitude, longitude) float32 3.3198166 ... 1.5179741\n",
       "Attributes:\n",
       "    Conventions:  CF-1.6\n",
       "    history:      2019-03-01 11:48:21 GMT by grib_to_netcdf-2.10.0: /opt/ecmw..."
      ]
     },
     "execution_count": 38,
     "metadata": {},
     "output_type": "execute_result"
    }
   ],
   "source": [
    "wind_velocity"
   ]
  },
  {
   "cell_type": "code",
   "execution_count": 39,
   "metadata": {
    "slideshow": {
     "slide_type": "subslide"
    }
   },
   "outputs": [
    {
     "data": {
      "text/plain": [
       "<xarray.DataArray 'u100' ()>\n",
       "array(6.38371, dtype=float32)\n",
       "Coordinates:\n",
       "    longitude  float32 -69.75\n",
       "    latitude   float32 42.0\n",
       "    time       datetime64[ns] 1994-04-30T15:00:00\n",
       "Attributes:\n",
       "    units:      m s**-1\n",
       "    long_name:  100 metre U wind component"
      ]
     },
     "execution_count": 39,
     "metadata": {},
     "output_type": "execute_result"
    }
   ],
   "source": [
    "wind_velocity.isel(latitude=103, longitude=411, time=711).u100"
   ]
  },
  {
   "cell_type": "code",
   "execution_count": 40,
   "metadata": {
    "slideshow": {
     "slide_type": "fragment"
    }
   },
   "outputs": [
    {
     "data": {
      "text/plain": [
       "<xarray.DataArray 'u100' ()>\n",
       "array(-5.4206896, dtype=float32)\n",
       "Coordinates:\n",
       "    longitude  float32 -172.5\n",
       "    latitude   float32 67.75\n",
       "    time       datetime64[ns] 1994-04-01T11:00:00\n",
       "Attributes:\n",
       "    units:      m s**-1\n",
       "    long_name:  100 metre U wind component"
      ]
     },
     "execution_count": 40,
     "metadata": {},
     "output_type": "execute_result"
    }
   ],
   "source": [
    "wind_velocity.sel(latitude=67.75, longitude=-172.5, time='1994-04-01 11:00' ).u100"
   ]
  },
  {
   "cell_type": "markdown",
   "metadata": {
    "slideshow": {
     "slide_type": "slide"
    }
   },
   "source": [
    "# Parallel computing"
   ]
  },
  {
   "cell_type": "code",
   "execution_count": 41,
   "metadata": {},
   "outputs": [],
   "source": [
    "fnames = [fname.format(m=m, y=y) for m in range(1,13) for y in range(2008, 2019)]"
   ]
  },
  {
   "cell_type": "code",
   "execution_count": 42,
   "metadata": {},
   "outputs": [],
   "source": [
    "wind_velocity = xr.open_mfdataset(fnames,\n",
    "                                  combine='by_coords',\n",
    "                                  concat_dim='time',\n",
    "                                  chunks=100)"
   ]
  },
  {
   "cell_type": "code",
   "execution_count": 43,
   "metadata": {},
   "outputs": [
    {
     "data": {
      "text/plain": [
       "126.63614259660244"
      ]
     },
     "execution_count": 43,
     "metadata": {},
     "output_type": "execute_result"
    }
   ],
   "source": [
    "wind_velocity.nbytes / 1024**3  # in GB"
   ]
  },
  {
   "cell_type": "code",
   "execution_count": 44,
   "metadata": {},
   "outputs": [],
   "source": [
    "wind_speed = ((wind_velocity.u100**2 + wind_velocity.u100**2)**0.5).sel(time=slice('2014', '2019'))"
   ]
  },
  {
   "cell_type": "code",
   "execution_count": 45,
   "metadata": {
    "scrolled": true
   },
   "outputs": [
    {
     "data": {
      "text/plain": [
       "14.387523651123047"
      ]
     },
     "execution_count": 45,
     "metadata": {},
     "output_type": "execute_result"
    }
   ],
   "source": [
    "wind_speed.nbytes / 1024**3  # in GB"
   ]
  },
  {
   "cell_type": "code",
   "execution_count": 46,
   "metadata": {},
   "outputs": [],
   "source": [
    "wind_speed_avg = wind_speed.mean()"
   ]
  },
  {
   "cell_type": "code",
   "execution_count": 47,
   "metadata": {},
   "outputs": [
    {
     "data": {
      "text/plain": [
       "<xarray.DataArray 'u100' ()>\n",
       "array(6.553551, dtype=float32)"
      ]
     },
     "execution_count": 47,
     "metadata": {},
     "output_type": "execute_result"
    }
   ],
   "source": [
    "wind_speed_avg.compute()"
   ]
  }
 ],
 "metadata": {
  "celltoolbar": "Slideshow",
  "kernelspec": {
   "display_name": "Python 3",
   "language": "python",
   "name": "python3"
  },
  "language_info": {
   "codemirror_mode": {
    "name": "ipython",
    "version": 3
   },
   "file_extension": ".py",
   "mimetype": "text/x-python",
   "name": "python",
   "nbconvert_exporter": "python",
   "pygments_lexer": "ipython3",
   "version": "3.7.3"
  },
  "rise": {
   "center": false,
   "controls": false,
   "slideNumber": "c/t",
   "theme": "serif",
   "transition": "none"
  }
 },
 "nbformat": 4,
 "nbformat_minor": 2
}
